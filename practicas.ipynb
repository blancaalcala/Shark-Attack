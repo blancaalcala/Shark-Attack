{
 "cells": [
  {
   "cell_type": "code",
   "execution_count": 1,
   "metadata": {},
   "outputs": [
    {
     "name": "stdout",
     "output_type": "stream",
     "text": [
      "['hola', 'Adops']\n"
     ]
    }
   ],
   "source": [
    "st = [\"hola\",\"Adops\"]\n",
    "\n",
    "x = []\n",
    "for i in st:\n",
    "    x.append(i)\n",
    "print(x)"
   ]
  },
  {
   "cell_type": "code",
   "execution_count": 2,
   "metadata": {},
   "outputs": [
    {
     "name": "stdout",
     "output_type": "stream",
     "text": [
      "<re.Match object; span=(0, 5), match='after'>\n"
     ]
    }
   ],
   "source": [
    "import re\n",
    "\n",
    "print(re.match(\"(?i)After+\",\"afternoon\"))"
   ]
  },
  {
   "cell_type": "code",
   "execution_count": 7,
   "metadata": {},
   "outputs": [
    {
     "name": "stdout",
     "output_type": "stream",
     "text": [
      "F\n",
      "F\n",
      "F\n"
     ]
    }
   ],
   "source": [
    "import SRC.function as F\n",
    "unknown = [\"morning\",\"afternoon\",\"evening\",\"night\"]\n",
    "for u in unknown:\n",
    "    if re.search(\"(?i)\"+u,\"morning\")==None:\n",
    "        print(\"F\")\n"
   ]
  },
  {
   "cell_type": "code",
   "execution_count": 11,
   "metadata": {},
   "outputs": [
    {
     "data": {
      "text/plain": [
       "<re.Match object; span=(0, 5), match='Kite '>"
      ]
     },
     "execution_count": 11,
     "metadata": {},
     "output_type": "execute_result"
    }
   ],
   "source": [
    "re.search(\"(?i)Kite.\",\"Kite surfing\")"
   ]
  },
  {
   "cell_type": "code",
   "execution_count": null,
   "metadata": {},
   "outputs": [],
   "source": [
    "ls = ['Marathon swimming', 'Wading or swimming', 'Boogie-boarding / swimming', 'Swimming, wearing black wetsuit & swim fins', 'Spearfishing, but swimming at surface', 'Surfing / Swimming', 'Scuba diving, but swimming on surface', 'Spearfishing, but swimming on surface', \"16' catamaran capsized previous night, occupants stayed with wreckage until morning, then attempted to swim ashore\", 'Freedom swimming', 'Freedom swimming', 'Freedom Swimming', 'Freedom swimming', 'Freedom swimming', 'Freedom swimming', 'Freedom Swimming', 'Freedom Swimming', 'Freedom Swimming', 'Small boat with 2 men onboard hit a submerged coral formation. Men began swimming to shore', 'The shrimper Loless Maurine capsized in heavy seas & the men were swimming ashore  ', 'Canoe swamped, swimming back to canoe', 'Swimming out to rescue swimmers in difficulty', 'Surfing, but swimming to his board', 'Attempting to swim across the Atlantic Ocean', 'Taking boat from California to Florida when it ran aground & he was swimming back to boat', 'Spearfishing / swimming on surface', 'Dived overboard & was swimming near stern of trawler', 'American minesweeper USS YMS-472 foundered in a typhoon - swimming to shore', 'American minesweeper USS YMS-350 lost in a typhoon - swimming to shore', 'USS Hoel DD 533 sunk on 10/24/1944 in the Battle off Samar. 2 crewmen were swimmng alongside a floater net &', 'USS Johnston DD 557 sunk on 10/24/1944 in the Battle off Samara. Crewmen were swimming beside a raft.', 'Flying Fortress bomber aircraft went down after daytime raid on Naples. He was swimming on the surface', 'Small boat swamped, 4  people swimming to shore but he fell behind the other 3 and vanished', 'Anti-Aircraft cruiser USS Atlanta (CL,-05) travelling in convoy after the Battle of Midway, encountered a Japanese flotilla  (Battle of Guadalcanal) &, heavily damaged by gunfire, she was lost off Lunga Point. Victim was swimming when bitten.', 'The Pacquebot Laconia, enroute to Liverpool with 600 Italian prisoners onboard, was torpedoed by the German submarine  U-156 and only 2 rafts were launched before the ship went down. Unable to board an overcrowded raft, he was swimming.', 'Sailing from Gingood, Misamis Oriental to Sagay (normally a 2-day voyage) capsized with 6 on board, three men were taken by sharks when they attempted to swim to shore.', 'Free diving for trochus shell, swimming to dinghy', 'Refused permission to cross on the ferry, he was swimming across the river', 'Diving for trochus , but swimming on surface', 'Swimming. Passer-by, Len Bedford, heard him shriek , saw shark leap from the water & swimmer disappeared', 'Swimming (lead swimmer in race)', 'Jumped overboard and swimming', 'Fishing, fell in water & swimming strongly to shore', 'Had just dived into water & was swimming', 'After rowing skiff was holed by shark, he was attempting to swim ashore', 'Boat capsized, swimming to shore', 'Small vessel with 13 men on board capsized crossing the bar and 6 men drowned.  The 7 survivors were swimming to shore', 'Fell overboard & swimming', 'Steamer Durao struck rock & filled, boats capsized, passengers & crew tried to swim to shore', 'Attempting to escape by swimming to shore', 'Boat capsized, swimming ashore', 'Boat capsized, swimming ashore', 'Aircraft ditched in the sea, swimming ashore', 'Crew swimming alongside their anchored ship']\n",
    "\n",
    "[F.renameF(df_new,\"Activity\",k,\"Swimming\") for s in ls]\n"
   ]
  },
  {
   "cell_type": "code",
   "execution_count": 18,
   "metadata": {},
   "outputs": [
    {
     "name": "stdout",
     "output_type": "stream",
     "text": [
      "8\n"
     ]
    }
   ],
   "source": [
    "u = \"unk\"\n",
    "fatal = \"UNK\"\n",
    "if re.match(\"(?i)\"+u,fatal):\n",
    "    print(8)"
   ]
  },
  {
   "cell_type": "code",
   "execution_count": 21,
   "metadata": {},
   "outputs": [
    {
     "name": "stdout",
     "output_type": "stream",
     "text": [
      "['05-Jul-1787']\n"
     ]
    }
   ],
   "source": [
    "f = re.findall(\"(?i)\\d\\d-\\w\\w\\w-\\d\\d\\d\\d\",\"05-Jul-1787\")\n",
    "print(f)"
   ]
  },
  {
   "cell_type": "code",
   "execution_count": 23,
   "metadata": {},
   "outputs": [
    {
     "name": "stdout",
     "output_type": "stream",
     "text": [
      "['11-Jan-2016']\n"
     ]
    }
   ],
   "source": [
    "if re.search(\"(?i)Reported\\s\\d\\d-\\w\\w\\w-\\d\\d\\d\\d\",\"Reported 11-Jan-2016\"):\n",
    "    print(re.findall(\"(?i)\\d\\d-\\w\\w\\w-\\d\\d\\d\\d\",\"11-Jan-2016\"))"
   ]
  },
  {
   "cell_type": "code",
   "execution_count": 31,
   "metadata": {},
   "outputs": [
    {
     "name": "stdout",
     "output_type": "stream",
     "text": [
      "6\n"
     ]
    }
   ],
   "source": [
    "if re.search(\"Hola|Adios\",\"Hola\"):\n",
    "    print(6)"
   ]
  },
  {
   "cell_type": "code",
   "execution_count": 37,
   "metadata": {},
   "outputs": [
    {
     "name": "stdout",
     "output_type": "stream",
     "text": [
      "['KurtHoffman']\n"
     ]
    }
   ],
   "source": [
    "n = \"KurtHoffman\"\n",
    "print(n.split(' '))"
   ]
  },
  {
   "cell_type": "code",
   "execution_count": null,
   "metadata": {},
   "outputs": [],
   "source": []
  }
 ],
 "metadata": {
  "kernelspec": {
   "display_name": "Python 3",
   "language": "python",
   "name": "python3"
  },
  "language_info": {
   "codemirror_mode": {
    "name": "ipython",
    "version": 3
   },
   "file_extension": ".py",
   "mimetype": "text/x-python",
   "name": "python",
   "nbconvert_exporter": "python",
   "pygments_lexer": "ipython3",
   "version": "3.7.4"
  }
 },
 "nbformat": 4,
 "nbformat_minor": 2
}
